{
 "cells": [
  {
   "cell_type": "markdown",
   "metadata": {},
   "source": [
    "# Business Definition of Attributes in Presentation View"
   ]
  },
  {
   "cell_type": "markdown",
   "metadata": {},
   "source": [
    "<a id='INV_TYPE'></a>\n",
    "## INV_TYPE"
   ]
  },
  {
   "cell_type": "markdown",
   "metadata": {},
   "source": [
    "<font color=#0B8D7B>*full name*</font> **Inventory Type**"
   ]
  },
  {
   "cell_type": "markdown",
   "metadata": {},
   "source": [
    "#### <font color=#0B8D7B> <font type='Calibri'> Definition</font>"
   ]
  },
  {
   "cell_type": "markdown",
   "metadata": {},
   "source": [
    "* <font type='Calibri'> *Inventory Type* is a global financial classification of a material. *Inventory type*, along with the type of business organization (e.g. Manufacturing, Operations, Distribution), determines how a inventory is accounted for financially.</font>"
   ]
  },
  {
   "cell_type": "markdown",
   "metadata": {},
   "source": [
    "#### <font color=#0B8D7B> Related Term(s) </font>"
   ]
  },
  {
   "cell_type": "markdown",
   "metadata": {},
   "source": [
    "* <font type='Calibri'> <font color='gray'>**Material Type**</font>\n",
    "    - <font type='Calibri'> See [Material Type](#MATERIAL_TYPE) </font>\n",
    "* <font type='Calibri'> <font color='gray'>**Asset Class**</font>\n",
    "    - <font type='Calibri'> See [Asset Class](#ASSET_CLS) </font>\n",
    "* <font type='Calibri'> <font color='gray'>**Valuation Category**</font>\n",
    "    - <font type='Calibri'> See [Valuation Category](#VALUATION_CATEGORY) </font>\n",
    "* <font type='Calibri'> <font color='gray'>**Inventory**</font>\n",
    "    - <font type='Calibri'>*Inventory* is defined as a stock or store of goods. These goods are maintained on hand at or near a business's location so that the firm may meet demand and fulfill its reason for existence. *Inventory* is sold to or consumed in providing services to the customer.</font>\n",
    "* <font type='Calibri'> <font color='gray'>**Asset**</font>\n",
    "    - <font type='Calibri'>*Asset* is used to generate value by offering direct or indirect services to the customer.</font>\n",
    "* <font type='Calibri'> <font color='gray'>**Expense**</font>\n",
    "    - <font type='Calibri'>*Expense* is the money spent, or costs incurred, by a business in the effort to generate revenues.</font>\n",
    "* <font type='Calibri'> <font color='gray'>**Provisioned Inventory**</font>\n",
    "    - <font type='Calibri'>*Provisioned Inventories* are materials that are used to service and maintain equipment for which Schlumberger recognizes the cost upon receipt and operations plant. Most *M&S* inventories fall into this category.</font>"
   ]
  },
  {
   "cell_type": "markdown",
   "metadata": {},
   "source": [
    "#### <font color=#0B8D7B> In MDM </font>"
   ]
  },
  {
   "cell_type": "markdown",
   "metadata": {},
   "source": [
    "|Standard Value Code|Inventory Type Name|Definition|\n",
    "|--------------------|-------------------|----------|\n",
    "|FTE|Field Technical Equipment|In Operations, it represents equipment procured for operations and used to generate revenue , and it is always capitalized and subject to depreciation. In Manufacturing/Distirbution, it is neither capitalized nor depreciated.|\n",
    "|CBL|Cable|A cable is an FTE with non-discrete UOM (e.g. ft).|\n",
    "|RAW_MATL|Raw Material|Inventory item used in the manufacturer's conversion process to produce components, subassemblies, or finished products.|\n",
    "|NFTE|Non Field Technical Equipment| NFTE is an asset that is not used to directly generate revenue.|\n",
    "|CMDTY|Commodity|Commodity is a sub-component part or subassembly which is designed and manufactured by third-party companies and used in a Schlumberger manufactured assembly.|\n",
    "|SLB_CMPNT|Schlumberger Component|Schlumberger Component is a sub-component part or subassembly which is designed by Schlumberger and used in a Schlumberger manufactured assembly.|\n",
    "|PROD_FIN_GOOD|Product Finished Good|Product Finished Good is used for materials that are sold to or consumed in providing services to third-party customers.|\n",
    "|MS|Materials & Supplies|Materials & Supplies are used to service to maintain Schlumberger-owned equipment. M&S invertory type is assigned to sub-component parts or subassemblies which are not used by Schlumberger manufactured assemblies.|\n",
    "|SVC|Service|Services are non-tangible materials which are sold to internal and third-party customers.|\n",
    "|SEMI_FIN_GOOD|Semi-Finished Good|Intermidiate product that cannot be transacted by itself.|\n",
    "|NON_VALUATED|Non-Valuated Material|Materials that are not tracked by cost and/or quantities.|"
   ]
  },
  {
   "cell_type": "markdown",
   "metadata": {},
   "source": [
    "<a id='ASSET_CLS'></a>\n",
    "## ASSET_CLS"
   ]
  },
  {
   "cell_type": "markdown",
   "metadata": {},
   "source": [
    "<font color=#0B8D7B>*full name*</font> **Asset Class**"
   ]
  },
  {
   "cell_type": "markdown",
   "metadata": {},
   "source": [
    "#### <font color=#0B8D7B> <font type='Calibri'> Definition</font>"
   ]
  },
  {
   "cell_type": "markdown",
   "metadata": {},
   "source": [
    "* <font type='Calibri'> *Asset Class* defines the type of asset (FTE/NFTE + sub-classification) and the period for a material to be depreciated. All materials having inventory types FTE, CBL and NFTE must have an asset class. Materials having inventory type PROD_FIN_GOOD with valuation category 'Y' may have an asset class, but it is not mandatory. No other inventory types should have an asset class.</font>"
   ]
  },
  {
   "cell_type": "markdown",
   "metadata": {},
   "source": [
    "#### <font color=#0B8D7B> Related Term(s) </font>"
   ]
  },
  {
   "cell_type": "markdown",
   "metadata": {},
   "source": [
    "* Inventory Type\n",
    "* Valuation Category\n",
    "* Asset\n",
    "* <font type='Calibri'><font color='gray'>**Depreciation**</font>\n",
    "    - <font type='Calibri'>*Depreciation*  is an accounting method of allocating the cost of a tangible or physical asset over its useful life or life expectancy. (Cite from Investopedia)</font>\n"
   ]
  },
  {
   "cell_type": "markdown",
   "metadata": {},
   "source": [
    "#### <font color=#0B8D7B> In MDM </font>"
   ]
  },
  {
   "cell_type": "markdown",
   "metadata": {},
   "source": [
    "|Type of Asset|Sub Classification|Depreciation (years)|\n",
    "|-------------|------------------|--------------------|\n"
   ]
  },
  {
   "cell_type": "markdown",
   "metadata": {},
   "source": [
    "<a id='VALUATION_CATEGORY'></a>\n",
    "## VALUATION_CATEGORY"
   ]
  },
  {
   "cell_type": "markdown",
   "metadata": {},
   "source": [
    "<font color=#0B8D7B>*full name*</font> **Valuation Category**"
   ]
  },
  {
   "cell_type": "markdown",
   "metadata": {},
   "source": [
    "#### <font color=#0B8D7B> <font type='Calibri'> Definition</font>"
   ]
  },
  {
   "cell_type": "markdown",
   "metadata": {},
   "source": [
    "* <font type='Calibri'> *Valuation Category* indicates whether a material can be split-valuated (have more than one valuation), e.g. lease/sale model, reusable components.</font>"
   ]
  },
  {
   "cell_type": "markdown",
   "metadata": {},
   "source": [
    "#### <font color=#0B8D7B> Related Term(s) </font>"
   ]
  },
  {
   "cell_type": "markdown",
   "metadata": {},
   "source": [
    "* Inventory Type\n",
    "* Asset Class\n",
    "* Asset\n",
    "* Inventory"
   ]
  },
  {
   "cell_type": "markdown",
   "metadata": {},
   "source": [
    "#### <font color=#0B8D7B> In MDM </font>"
   ]
  },
  {
   "cell_type": "markdown",
   "metadata": {},
   "source": [
    "|Standard Value Code|Definition|\n",
    "|--------------------|----------|\n",
    "|Y|The material can be split-valuated|\n",
    "|(null)|The material cannot be split-valuated|"
   ]
  },
  {
   "cell_type": "markdown",
   "metadata": {},
   "source": [
    "<a id='BATCH_MGMT_IND'></a>\n",
    "## BATCH_MGMT_IND"
   ]
  },
  {
   "cell_type": "markdown",
   "metadata": {},
   "source": [
    "<font color=#0B8D7B>*full name*</font> **Batch Management Indicator**"
   ]
  },
  {
   "cell_type": "markdown",
   "metadata": {},
   "source": [
    "#### <font color=#0B8D7B> <font type='Calibri'> Definition</font>"
   ]
  },
  {
   "cell_type": "markdown",
   "metadata": {},
   "source": [
    "* <font type='Calibri'> *Batch Management Indicator* indicates whether or not stock is managed in batches/lots. </font>"
   ]
  },
  {
   "cell_type": "markdown",
   "metadata": {},
   "source": [
    "#### <font color=#0B8D7B> Related Term(s) </font>"
   ]
  },
  {
   "cell_type": "markdown",
   "metadata": {},
   "source": [
    "* <font type='Calibri'><font color='gray'>**Batch**</font>\n",
    "    - <font type='Calibri'>A *batch* is a quantity of the material produced during a given production run. </font>"
   ]
  },
  {
   "cell_type": "markdown",
   "metadata": {},
   "source": [
    "#### <font color=#0B8D7B> In MDM </font>"
   ]
  },
  {
   "cell_type": "markdown",
   "metadata": {},
   "source": [
    "|Standard Value Code|Definition|\n",
    "|-------------------|----------|\n",
    "|Y|The material is being batch-managed|\n",
    "|N|The material is not being batch-managed|\n",
    "|(null)||"
   ]
  },
  {
   "cell_type": "markdown",
   "metadata": {},
   "source": [
    "<a id='SERIAL_NUM_PRFL'></a>\n",
    "## SERIAL_NUM_PRFL"
   ]
  },
  {
   "cell_type": "markdown",
   "metadata": {},
   "source": [
    "<font color=#0B8D7B>*full name*</font> **Serial Number Profile**"
   ]
  },
  {
   "cell_type": "markdown",
   "metadata": {},
   "source": [
    "#### <font color=#0B8D7B> <font type='Calibri'> Definition</font>"
   ]
  },
  {
   "cell_type": "markdown",
   "metadata": {},
   "source": [
    "* <font type='Calibri'> *Serial Number Profile* indicates whether or not a material needs to be serial-controlled and the type of serialization.</font>"
   ]
  },
  {
   "cell_type": "markdown",
   "metadata": {},
   "source": [
    "#### <font color=#0B8D7B> Related Term(s) </font>"
   ]
  },
  {
   "cell_type": "markdown",
   "metadata": {},
   "source": [
    "* <font type='Calibri'><font color='gray'>**Serial Number**</font>\n",
    "    - <font type='Calibri'>When a *serial number* is assigned to material, it helps to track the individual instance of the material from purchasing/manufacturing throughout its whole life-cycle . </font>"
   ]
  },
  {
   "cell_type": "markdown",
   "metadata": {},
   "source": [
    "#### <font color=#0B8D7B> In MDM </font>"
   ]
  },
  {
   "cell_type": "markdown",
   "metadata": {},
   "source": [
    "|Standard Value Code|Full Name|Definition|\n",
    "|-------------------|---------|----------|\n",
    "|NO_CONTROL|No Control|Not serial-controlled.|\n",
    "|SLB MANUFACTURED, SLB OWNED, SLB MAINTAINED|SLB Manufactured, SLB Owned, SLB Maintained|Default profile used for serialized materials that Schlumberger manufactured.|\n",
    "|SMITH MANUFACTURED BITS|Smith Manufactured Bits|Dynamic serial number that is assigned for manufacturing|\n",
    "|SLB MANUFACTURED, SLB OWNED, NOT MAINTAINED, NON-EQUIPMENT|SLB Manufactured, SLB Owned, Not Maintained, Non-Equipment||\n",
    "|QUALITY-TEST EQUIPMENT|Quality-Test Equipment||\n",
    "|SLB PLANT EQUIPMENT|SLB Plant Equipment||\n",
    "|NON-SLB MANUFACTURED, SLB OWNED, SLB MAINTAINED|Non-SLB Manufactured, SLB Owned, SLB Maintained||\n",
    "|SLB MANUFACTURED, CUSTOMER OWNED, SLB MAINTAINED|SLB Manufactured, Customer Owned, SLB Maintained||\n",
    "|NON-SLB MANUFACTURED, CUSTOMER OWNED, SLB MAINTAINED|Non-SLB Manufactured, Customer Owned, SLB Maintained||"
   ]
  },
  {
   "cell_type": "markdown",
   "metadata": {},
   "source": [
    "#### <font color=#0B8D7B> NOTE </font>"
   ]
  },
  {
   "cell_type": "markdown",
   "metadata": {},
   "source": [
    "* <font type='Calibri'><font color='gray'>**Difference Between *Serial Number* & *Batch***</font>\n",
    "    - <font type='Calibri'>*Serial number* applies to an individual unit of a material while *batch* is applicable to a group/lot of the same material</font>"
   ]
  },
  {
   "cell_type": "markdown",
   "metadata": {},
   "source": [
    "<a id='MATERIAL_TYPE'></a>\n",
    "## MATERIAL_TYPE"
   ]
  },
  {
   "cell_type": "markdown",
   "metadata": {},
   "source": [
    "<font color=#0B8D7B>*full name*</font> **Material Type**"
   ]
  },
  {
   "cell_type": "markdown",
   "metadata": {},
   "source": [
    "#### <font color=#0B8D7B> <font type='Calibri'> Definition</font>"
   ]
  },
  {
   "cell_type": "markdown",
   "metadata": {},
   "source": [
    "* <font type='Calibri'> A *Material Type* defines how a material is transacted in SAP at Schlumberger. The material type defines the SAP views available which determine what types of transactions allowed with a material</font>"
   ]
  },
  {
   "cell_type": "markdown",
   "metadata": {},
   "source": [
    "#### <font color=#0B8D7B> Related Term(s) </font>"
   ]
  },
  {
   "cell_type": "markdown",
   "metadata": {},
   "source": [
    "* <font type='Calibri'><font color='gray'>**Inventory Type**</font>\n",
    "    - <font type='Calibri'>See [Inventory Type](#INV_TYPE) </font>"
   ]
  },
  {
   "cell_type": "markdown",
   "metadata": {},
   "source": [
    "#### <font color=#0B8D7B> In MDM </font>"
   ]
  },
  {
   "cell_type": "markdown",
   "metadata": {},
   "source": [
    "|Standard Value Code|Full Name|Definition|\n",
    "|-------------------|---------|----------|\n",
    "|MATL|Material|Tangible materials that can be manufactured, bought, moved, sold, and tracked by quantity and value.|\n",
    "|SVC|Service|Services that can be sold internally or externally, and cannot be stored or transported. Services only procured are not part of Material Master.|\n",
    "|SVC_ASSY|Service Assembly|Materials that are available to be selected as 'Service Products' but are not service materials. These materials cannot be bought, sold, made or moved. Service Assembly is usually used to store master code.|\n",
    "|NON_STK_MATL|Non-Stock Material|Materials that are not held in stock and cannot be tracked by quantity or value.|\n",
    "|NON_VAL_MATL|Non-Valuated Material|Materials that can be tracked by quantity but not by value|\n",
    "|PKG_MATL|Packaging Material|Materials that are used to transport goods and come with the goods free of charge|"
   ]
  },
  {
   "cell_type": "markdown",
   "metadata": {},
   "source": [
    "<a id='MATERIAL_NUM'></a>\n",
    "## MATERIAL_NUM"
   ]
  },
  {
   "cell_type": "markdown",
   "metadata": {},
   "source": [
    "<font color=#0B8D7B>*full name*</font> **Material Number**"
   ]
  },
  {
   "cell_type": "markdown",
   "metadata": {},
   "source": [
    "#### <font color=#0B8D7B> <font type='Calibri'> Definition</font>"
   ]
  },
  {
   "cell_type": "markdown",
   "metadata": {},
   "source": [
    "* <font type='Calibri'> A *Material Number* is an alphanumeric key uniquely identifying a material. </font>"
   ]
  },
  {
   "cell_type": "markdown",
   "metadata": {},
   "source": [
    "#### <font color=#0B8D7B> Related Term(s) </font>"
   ]
  },
  {
   "cell_type": "markdown",
   "metadata": {},
   "source": [
    "* <font type='Calibri'><font color='gray'>**Material Number Type Code**</font>\n",
    "    - <font type='Calibri'>See [Material Number Type Code](#MATL_NUM_TYPE_CD) </font>\n",
    "* <font type='Calibri'><font color='gray'>**Part Number**</font>\n",
    "    - <font type='Calibri'>A *Part Number* is an alternative term for material number."
   ]
  },
  {
   "cell_type": "markdown",
   "metadata": {},
   "source": [
    "<a id='MATL_NUM_TYPE_CD'></a>\n",
    "## MATL_NUM_TYPE_CD"
   ]
  },
  {
   "cell_type": "markdown",
   "metadata": {},
   "source": [
    "<font color=#0B8D7B>*full name*</font> **Material Number Type Code**"
   ]
  },
  {
   "cell_type": "markdown",
   "metadata": {},
   "source": [
    "#### <font color=#0B8D7B> <font type='Calibri'> Definition</font>"
   ]
  },
  {
   "cell_type": "markdown",
   "metadata": {},
   "source": [
    "* <font type='Calibri'> A *Material Number Type Code* is differentiating the type of material records based on the source of origination, e.g. Schlumberger engineering, third-party vendors and manufacturers. </font>"
   ]
  },
  {
   "cell_type": "markdown",
   "metadata": {},
   "source": [
    "#### <font color=#0B8D7B> Related Term(s) </font>"
   ]
  },
  {
   "cell_type": "markdown",
   "metadata": {},
   "source": [
    "* <font type='Calibri'><font color='gray'>**Material Number**</font>\n",
    "    - <font type='Calibri'>See [Material Number](#MATERIAL_NUM) </font>"
   ]
  },
  {
   "cell_type": "markdown",
   "metadata": {},
   "source": [
    "#### <font color=#0B8D7B> In MDM </font>"
   ]
  },
  {
   "cell_type": "markdown",
   "metadata": {},
   "source": [
    "|Standard Value Code|Full Name|Definition|\n",
    "|-------------------|---------|----------|\n",
    "|EPN|Engineering Part Number|Orginated from Schlumberger engineering.|\n",
    "|SPN|Schlumberger Part Number|Orginated from Schlumberger ERP and other business systems.|\n",
    "|MPN|External Manufacturer Part Number|Orginated from third-party manufacturers.|\n",
    "|MC|Master Code|Used to group together Schlumberger Part Number based the sales team's requir.|\n",
    "|VPN|Vendor Part Number|Orginated from third-party vendors.|"
   ]
  },
  {
   "cell_type": "markdown",
   "metadata": {},
   "source": [
    "<a id='MATERIAL_GRP'></a>\n",
    "## MATERIAL_GRP"
   ]
  },
  {
   "cell_type": "markdown",
   "metadata": {},
   "source": [
    "<font color=#0B8D7B>*full name*</font> **Material Group**"
   ]
  },
  {
   "cell_type": "markdown",
   "metadata": {},
   "source": [
    "#### <font color=#0B8D7B> <font type='Calibri'> Definition</font>"
   ]
  },
  {
   "cell_type": "markdown",
   "metadata": {},
   "source": [
    "* <font type='Calibri'> A *Material Group* contains the description of the spend taxonomy (Supply Chain classification) assigned to the material. It is used to classify procurement spend for reporting and analysis. </font>"
   ]
  },
  {
   "cell_type": "markdown",
   "metadata": {},
   "source": [
    "#### <font color=#0B8D7B> Related Term(s) </font>"
   ]
  },
  {
   "cell_type": "markdown",
   "metadata": {},
   "source": [
    "* <font type='Calibri'><font color='gray'>**Material Group Code**</font>\n",
    "    - <font type='Calibri'>See [Material Group Code](#MATERIAL_GRP_CD) </font>\n",
    "* <font type='Calibri'><font color='gray'>**Spend Taxonomy**</font>\n",
    "    - <font type='Calibri'>*Spend Taxonomy* is an alternate term for Material Group. </font>\n",
    "* <font type='Calibri'><font color='gray'>**Commodity Code**</font>\n",
    "    - <font type='Calibri'>*Commodity Code* is an alternate term for Material Group. </font>"
   ]
  },
  {
   "cell_type": "markdown",
   "metadata": {},
   "source": [
    "<a id='MATERIAL_GRP_CD'></a>\n",
    "## MATERIAL_GRP_CD"
   ]
  },
  {
   "cell_type": "markdown",
   "metadata": {},
   "source": [
    "<font color=#0B8D7B>*full name*</font> **Material Group Code**"
   ]
  },
  {
   "cell_type": "markdown",
   "metadata": {},
   "source": [
    "#### <font color=#0B8D7B> <font type='Calibri'> Definition</font>"
   ]
  },
  {
   "cell_type": "markdown",
   "metadata": {},
   "source": [
    "* <font type='Calibri'> A *Material Group Code* is the code representing the Material Group assigned to a material. It represents the fourth level of the Material Group hierarchy.</font>"
   ]
  },
  {
   "cell_type": "markdown",
   "metadata": {},
   "source": [
    "#### <font color=#0B8D7B> Related Term(s) </font>"
   ]
  },
  {
   "cell_type": "markdown",
   "metadata": {},
   "source": [
    "* <font type='Calibri'><font color='gray'>**Material Group**</font>\n",
    "    - <font type='Calibri'>See [Material Group](#MATERIAL_GRP) </font>"
   ]
  },
  {
   "cell_type": "markdown",
   "metadata": {},
   "source": [
    "#### <font color=#0B8D7B> In MDM </font>"
   ]
  },
  {
   "cell_type": "markdown",
   "metadata": {},
   "source": [
    "|Standard Value Code|Full Name (MATERIAL_GP)|\n",
    "|-------------------|-----------------------|\n",
    "|TFMHT09P|Spare parts purchase (different categories electric, plumbing , HVAC)|\n",
    "|SEPSPB01|Batteries|\n",
    "|DECTWC03|Wireline Hardware & Accessories|\n",
    "|INIFAS03|Application Software (Software-As-A-Service)|\n",
    "|DERMMN12|Other Nickel Alloy Bars|\n",
    "|...||"
   ]
  },
  {
   "cell_type": "markdown",
   "metadata": {},
   "source": [
    "<a id='BASE_UOM'></a>\n",
    "## BASE_UOM"
   ]
  },
  {
   "cell_type": "markdown",
   "metadata": {},
   "source": [
    "<font color=#0B8D7B>*full name*</font> **Base Unit of Measure**"
   ]
  },
  {
   "cell_type": "markdown",
   "metadata": {},
   "source": [
    "#### <font color=#0B8D7B> <font type='Calibri'> Definition</font>"
   ]
  },
  {
   "cell_type": "markdown",
   "metadata": {},
   "source": [
    "* <font type='Calibri'> A *Base Unit of Measure* is the primary Unit of Measure for a material used as the basis of most transactions. It is the Unit of Measure in which a material's stock is managed.</font>"
   ]
  },
  {
   "cell_type": "markdown",
   "metadata": {},
   "source": [
    "#### <font color=#0B8D7B> Related Term(s) </font>"
   ]
  },
  {
   "cell_type": "markdown",
   "metadata": {},
   "source": [
    "* <font type='Calibri'><font color='gray'>**Alternate Unit of Measure**</font>\n",
    "    - <font type='Calibri'>See [Alternate Unit of Measure](#ALT_UOM) </font>\n",
    "* <font type='Calibri'><font color='gray'>**Numerator of Conversion Factor**</font>\n",
    "    - <font type='Calibri'>See [Numerator of Conversion Factor](#NUM_CONV_DACTOR) </font>\n",
    "* <font type='Calibri'><font color='gray'>**Denominator of Conversion Factor**</font>\n",
    "    - <font type='Calibri'>See [Denominator of Conversion Factor](#DENOM_CONV_DACTOR) </font>"
   ]
  },
  {
   "cell_type": "markdown",
   "metadata": {},
   "source": [
    "#### <font color=#0B8D7B> In MDM </font>"
   ]
  },
  {
   "cell_type": "markdown",
   "metadata": {},
   "source": [
    "<font type='Calibri'>*(NOTE: The example values apply to all UOM attributes)*</font>"
   ]
  },
  {
   "cell_type": "markdown",
   "metadata": {},
   "source": [
    "|Standard Value Code|Full Name|\n",
    "|-------------------|---------|\n",
    "|EA|Each|\n",
    "|FT|Feet|\n",
    "|IN|Inch|\n",
    "|TAG|Day|\n",
    "|MON|Months|\n",
    "|M|Meter|\n",
    "|LB|Pound|\n",
    "|JOB|Job|\n",
    "|...||\n"
   ]
  },
  {
   "cell_type": "markdown",
   "metadata": {},
   "source": [
    "<a id='ALT_UOM'></a>\n",
    "## ALT_UOM"
   ]
  },
  {
   "cell_type": "markdown",
   "metadata": {},
   "source": [
    "<font color=#0B8D7B>*full name*</font> **Alternate Unit of Measure**"
   ]
  },
  {
   "cell_type": "markdown",
   "metadata": {},
   "source": [
    "#### <font color=#0B8D7B> <font type='Calibri'> Definition</font>"
   ]
  },
  {
   "cell_type": "markdown",
   "metadata": {},
   "source": [
    "* <font type='Calibri'> An *Alternate Unit of Measure* is the Unit of Measure for a material, which can used in transactions other than the Base Unit of Measure. </font>"
   ]
  },
  {
   "cell_type": "markdown",
   "metadata": {},
   "source": [
    "#### <font color=#0B8D7B> Related Term(s) </font>"
   ]
  },
  {
   "cell_type": "markdown",
   "metadata": {},
   "source": [
    "* <font type='Calibri'><font color='gray'>**Base Unit of Measure**</font>\n",
    "    - <font type='Calibri'>See [Base Unit of Measure](#BASE_UOM) </font>\n",
    "* <font type='Calibri'><font color='gray'>**Numerator of Conversion Factor**</font>\n",
    "    - <font type='Calibri'>See [Numerator of Conversion Factor](#NUM_CONV_FACTOR) </font>\n",
    "* <font type='Calibri'><font color='gray'>**Denominator of Conversion Factor**</font>\n",
    "    - <font type='Calibri'>See [Denominator of Conversion Factor](#DENOM_CONV_FACTOR) </font>"
   ]
  },
  {
   "cell_type": "markdown",
   "metadata": {},
   "source": [
    "<a id='NUM_CONV_FACTOR'></a>\n",
    "## NUM_CONV_FACTOR"
   ]
  },
  {
   "cell_type": "markdown",
   "metadata": {},
   "source": [
    "<font color=#0B8D7B>*full name*</font> **Numerator of Conversion Factor**"
   ]
  },
  {
   "cell_type": "markdown",
   "metadata": {},
   "source": [
    "#### <font color=#0B8D7B> <font type='Calibri'> Definition</font>"
   ]
  },
  {
   "cell_type": "markdown",
   "metadata": {},
   "source": [
    "* <font type='Calibri'> A *Numerator of Conversion Factor* is the numerator for the conversion factor between BASE_UOM and ALT_UOM. </font>"
   ]
  },
  {
   "cell_type": "markdown",
   "metadata": {},
   "source": [
    "#### <font color=#0B8D7B> Related Term(s) </font>"
   ]
  },
  {
   "cell_type": "markdown",
   "metadata": {},
   "source": [
    "* <font type='Calibri'><font color='gray'>**Base Unit of Measure**</font>\n",
    "    - <font type='Calibri'>See [Base Unit of Measure](#BASE_UOM) </font>\n",
    "* <font type='Calibri'><font color='gray'>**Alternate Unit of Measure**</font>\n",
    "    - <font type='Calibri'>See [Alternate Unit of Measure](#ALT_UOM) </font>\n",
    "* <font type='Calibri'><font color='gray'>**Denominator of Conversion Factor**</font>\n",
    "    - <font type='Calibri'>See [Denominator of Conversion Factor](#DENOM_CONV_DACTOR) </font>"
   ]
  },
  {
   "cell_type": "markdown",
   "metadata": {},
   "source": [
    "<a id='DENOM_CONV_FACTOR'></a>\n",
    "## DENOM_CONV_FACTOR"
   ]
  },
  {
   "cell_type": "markdown",
   "metadata": {},
   "source": [
    "<font color=#0B8D7B>*full name*</font> **Denominator of Conversion Factor**"
   ]
  },
  {
   "cell_type": "markdown",
   "metadata": {},
   "source": [
    "#### <font color=#0B8D7B> <font type='Calibri'> Definition</font>"
   ]
  },
  {
   "cell_type": "markdown",
   "metadata": {},
   "source": [
    "* <font type='Calibri'> A *Denominator of Conversion Factor* is the denominator for the conversion factor between BASE_UOM and ALT_UOM. </font>"
   ]
  },
  {
   "cell_type": "markdown",
   "metadata": {},
   "source": [
    "#### <font color=#0B8D7B> Related Term(s) </font>"
   ]
  },
  {
   "cell_type": "markdown",
   "metadata": {},
   "source": [
    "* <font type='Calibri'><font color='gray'>**Base Unit of Measure**</font>\n",
    "    - <font type='Calibri'>See [Base Unit of Measure](#BASE_UOM) </font>\n",
    "* <font type='Calibri'><font color='gray'>**Alternate Unit of Measure**</font>\n",
    "    - <font type='Calibri'>See [Alternate Unit of Measure](#ALT_UOM) </font>\n",
    "* <font type='Calibri'><font color='gray'>**Numerator of Conversion Factor**</font>\n",
    "    - <font type='Calibri'>See [Numerator of Conversion Factor](#NUM_CONV_FACTOR) </font>"
   ]
  },
  {
   "cell_type": "markdown",
   "metadata": {},
   "source": [
    "<a id='PROD_LINE'></a>\n",
    "## PROD_LINE"
   ]
  },
  {
   "cell_type": "markdown",
   "metadata": {},
   "source": [
    "<font color=#0B8D7B>*full name*</font> **Product Line**"
   ]
  },
  {
   "cell_type": "markdown",
   "metadata": {},
   "source": [
    "#### <font color=#0B8D7B> <font type='Calibri'> Definition</font>"
   ]
  },
  {
   "cell_type": "markdown",
   "metadata": {},
   "source": [
    "* <font type='Calibri'> A *Product Line* is a part of the Schlumberger business dedicated to developing and marketing a certain set of technologies that are delivered to our clients by the GeoMarkets. Related product lines are combined into a group. The product line characteristic determines the technical data ownership for a material. See SLOrg homepage (https://slb001.sharepoint.com/sites/Dataservices/LegacyMDM/SLOrg). </font>"
   ]
  },
  {
   "cell_type": "markdown",
   "metadata": {},
   "source": [
    "#### <font color=#0B8D7B> Related Term(s) </font>"
   ]
  },
  {
   "cell_type": "markdown",
   "metadata": {},
   "source": [
    "* Group\n",
    "    - Group is a parent group for product line (See the organization group chart https://slb001.sharepoint.com/sites/5d8701cf-43f9-4bca-8a4c-f289218218a2/Shared%20Documents/organization/SLB_Org_Chart.pdf)\n",
    "* <font type='Calibri'><font color='gray'>**Sub Product Line**</font>\n",
    "    - <font type='Calibri'>See [Sub Product Line](#SUB_PROD_LINE) </font>\n",
    "* <font type='Calibri'><font color='gray'>**Segment**</font>\n",
    "    - <font type='Calibri'>*Segment* is the previous term for Product Line.</font>"
   ]
  },
  {
   "cell_type": "markdown",
   "metadata": {},
   "source": [
    "#### <font color=#0B8D7B> In MDM </font>"
   ]
  },
  {
   "cell_type": "markdown",
   "metadata": {},
   "source": [
    "*(Examples Only)*"
   ]
  },
  {
   "cell_type": "markdown",
   "metadata": {},
   "source": [
    "|Standard Value Code|Full Name|\n",
    "|-------------------|---------|\n",
    "|CPL|Completions|\n",
    "|ALS|Artificial Lift Solutions|\n",
    "|WL|Wireline|\n",
    "|M-I|M-I SWACO|\n",
    "|WS|Well Services|\n",
    "|DBM|Drilling & Measurements|\n",
    "|MSP|Management & Support|\n",
    "|TS|Testing Services|\n",
    "|...||"
   ]
  },
  {
   "cell_type": "markdown",
   "metadata": {},
   "source": [
    "<a id='SUB_PROD_LINE'></a>\n",
    "## SUB_PROD_LINE"
   ]
  },
  {
   "cell_type": "markdown",
   "metadata": {},
   "source": [
    "<font color=#0B8D7B>*full name*</font> **Sub Product Line**"
   ]
  },
  {
   "cell_type": "markdown",
   "metadata": {},
   "source": [
    "#### <font color=#0B8D7B> <font type='Calibri'> Definition</font>"
   ]
  },
  {
   "cell_type": "markdown",
   "metadata": {},
   "source": [
    "* <font type='Calibri'> A *Sub Product Line* is a part of a Product Line dedicated to a specific product and service mix within the Product Line technology set. </font>"
   ]
  },
  {
   "cell_type": "markdown",
   "metadata": {},
   "source": [
    "#### <font color=#0B8D7B> Related Term(s) </font>"
   ]
  },
  {
   "cell_type": "markdown",
   "metadata": {},
   "source": [
    "* <font type='Calibri'><font color='gray'>**Product Line**</font>\n",
    "    - <font type='Calibri'>See [Product Line](#PROD_LINE) </font>\n",
    "* <font type='Calibri'><font color='gray'>**Subsegment**</font>\n",
    "    - <font type='Calibri'>*Subsegment* is the previous term for Sub Product Line.</font>"
   ]
  },
  {
   "cell_type": "markdown",
   "metadata": {},
   "source": [
    "#### <font color=#0B8D7B> In MDM </font>"
   ]
  },
  {
   "cell_type": "markdown",
   "metadata": {},
   "source": [
    "*(Examples Only)*"
   ]
  },
  {
   "cell_type": "markdown",
   "metadata": {},
   "source": [
    "|Standard Value Code|Full Name|\n",
    "|-------------------|---------|\n",
    "|IDSB|IDS Business Development|\n",
    "|TDBM|TLM Drilling & Measurements|\n",
    "|CFLO|Cameron V&M Measurement|\n",
    "|IDSG|Geothermex|\n",
    "|WIS|Well Intervention|\n",
    "|FME|Framo Engineering Sub Segment|\n",
    "|...||"
   ]
  },
  {
   "cell_type": "markdown",
   "metadata": {},
   "source": [
    "<a id='MSC_CD'></a>\n",
    "## MSC_CD"
   ]
  },
  {
   "cell_type": "markdown",
   "metadata": {},
   "source": [
    "<font color=#0B8D7B>*full name*</font> **MSC Code**"
   ]
  },
  {
   "cell_type": "markdown",
   "metadata": {},
   "source": [
    "#### <font color=#0B8D7B> <font type='Calibri'> Definition</font>"
   ]
  },
  {
   "cell_type": "markdown",
   "metadata": {},
   "source": [
    "* <font type='Calibri'> A *MSC (Material Specification Classification) Code* is a classification for similar Schlumberger materials having similar characteristics and failure modes. This classification is base upon UNSPSC (See DMS# 100717091).</font>"
   ]
  },
  {
   "cell_type": "markdown",
   "metadata": {},
   "source": [
    "#### <font color=#0B8D7B> Related Term(s) </font>"
   ]
  },
  {
   "cell_type": "markdown",
   "metadata": {},
   "source": [
    "* <font type='Calibri'><font color='gray'>**MSC Description**</font>\n",
    "    - <font type='Calibri'>See [MSC Description](#MSC_DS) </font>\n",
    "* <font type='Calibri'><font color='gray'>**UNSPSC**</font>\n",
    "    - <font type='Calibri'>The *United Nations Standard Products and Services Code* is a taxonomy of products and services for use in eCommerce. It is a four-level hierarchy code.</font>"
   ]
  },
  {
   "cell_type": "markdown",
   "metadata": {},
   "source": [
    "<a id='MSC_DS'></a>\n",
    "## MSC_DS"
   ]
  },
  {
   "cell_type": "markdown",
   "metadata": {},
   "source": [
    "<font color=#0B8D7B>*full name*</font> **MSC Description**"
   ]
  },
  {
   "cell_type": "markdown",
   "metadata": {},
   "source": [
    "#### <font color=#0B8D7B> <font type='Calibri'> Definition</font>"
   ]
  },
  {
   "cell_type": "markdown",
   "metadata": {},
   "source": [
    "* <font type='Calibri'> A *MSC Description* is the description of the MSC Code. </font>"
   ]
  },
  {
   "cell_type": "markdown",
   "metadata": {},
   "source": [
    "#### <font color=#0B8D7B> Related Term(s) </font>"
   ]
  },
  {
   "cell_type": "markdown",
   "metadata": {},
   "source": [
    "* <font type='Calibri'><font color='gray'>**MSC Code**</font>\n",
    "    - <font type='Calibri'>See [MSC Code](#MSC_CD) </font>"
   ]
  },
  {
   "cell_type": "markdown",
   "metadata": {},
   "source": [
    "#### <font color=#0B8D7B> In MDM </font>"
   ]
  },
  {
   "cell_type": "markdown",
   "metadata": {},
   "source": [
    "*(Examples Only)*"
   ]
  },
  {
   "cell_type": "markdown",
   "metadata": {},
   "source": [
    "|Standard Value Code (MSC_CD)|Full Name (MSC_DS)|\n",
    "|----------------------------|------------------|\n",
    "|32121600&#124;MSCL3|RESISTORS|\n",
    "|23152101&#124;MSCL4|VIBRATORY SEPARATION EQUIPMENT OR PARTS OR SCREENS|\n",
    "|20141501&#124;MSCL4|ESP PUMPS|\n",
    "|201415AA&#124;MSCL4|ESP MOTORS|\n",
    "|32121500&#124;MSCL3|CAPACITORS|\n",
    "|20122516&#124;MSCL4|COILED TUBING PIPE|\n",
    "|...||"
   ]
  },
  {
   "cell_type": "markdown",
   "metadata": {},
   "source": [
    "<a id='DANGER_GOOD_CD'></a>\n",
    "## DANGER_GOOD_CD"
   ]
  },
  {
   "cell_type": "markdown",
   "metadata": {},
   "source": [
    "<font color=#0B8D7B>*full name*</font> **Dangerous Good Code**"
   ]
  },
  {
   "cell_type": "markdown",
   "metadata": {},
   "source": [
    "#### <font color=#0B8D7B> <font type='Calibri'> Definition</font>"
   ]
  },
  {
   "cell_type": "markdown",
   "metadata": {},
   "source": [
    "* <font type='Calibri'> A *Dangerous Good Code* identifies certain dangerous good types and indicates whether a material is considered as a dangerous good.This attribute drives requirements for additional documentations for import/export and transportation. </font>"
   ]
  },
  {
   "cell_type": "markdown",
   "metadata": {},
   "source": [
    "#### <font color=#0B8D7B> Related Term(s) </font>"
   ]
  },
  {
   "cell_type": "markdown",
   "metadata": {},
   "source": [
    "* <font type='Calibri'><font color='gray'>**UN Number**</font>\n",
    "    - <font type='Calibri'>A *United Nations numbers* is a four-digit numbers that identify hazardous materials. </font>"
   ]
  },
  {
   "cell_type": "markdown",
   "metadata": {},
   "source": [
    "#### <font color=#0B8D7B> In MDM </font>"
   ]
  },
  {
   "cell_type": "markdown",
   "metadata": {},
   "source": [
    "|Standard Value Code|Full Name|\n",
    "|-------------------|---------|\n",
    "|NON_DANGER_GOOD|Non Dangerous Good|\n",
    "|GEN_DANGER_GOOD|General Danagerous Good|\n",
    "|EXPLO_MATL|Explosive Material|\n",
    "|CHEM_PROD|Chemical Product|\n",
    "|NUCL_MATL|Nuclear Material|"
   ]
  },
  {
   "cell_type": "markdown",
   "metadata": {},
   "source": [
    "<a id='EQUIPMENT_CD'></a>\n",
    "## EQUIPMENT_CD"
   ]
  },
  {
   "cell_type": "markdown",
   "metadata": {},
   "source": [
    "<font color=#0B8D7B>*full name*</font> **Equipment Code**"
   ]
  },
  {
   "cell_type": "markdown",
   "metadata": {},
   "source": [
    "#### <font color=#0B8D7B> <font type='Calibri'> Definition</font>"
   ]
  },
  {
   "cell_type": "markdown",
   "metadata": {},
   "source": [
    "* <font type='Calibri'> A *Equipment Code* identifies the equipment system related to a material. </font>"
   ]
  },
  {
   "cell_type": "markdown",
   "metadata": {},
   "source": [
    "#### <font color=#0B8D7B> Related Term(s) </font>"
   ]
  },
  {
   "cell_type": "markdown",
   "metadata": {},
   "source": [
    "* <font type='Calibri'><font color='gray'>**File Code**</font>\n",
    "    - <font type='Calibri'>A *File Code* is former term for Equipment Code (see https://speedia.slb.com/index.php?title=File_Code). </font>"
   ]
  },
  {
   "cell_type": "markdown",
   "metadata": {},
   "source": [
    "#### <font color=#0B8D7B> In MDM </font>"
   ]
  },
  {
   "cell_type": "markdown",
   "metadata": {},
   "source": [
    "|Sample Values|\n",
    "|-------------------|\n",
    "|PMP-REDA-FL-400|\n",
    "|STR-REDA-562|\n",
    "|MTR-MAX-S-456|\n",
    "|PMP-REDA-CR-ARZ-400|\n",
    "|MTR-DOM-UT-562|\n",
    "|HPS-G3|\n",
    "|STR-REDA-456|\n",
    "|PMP-REDA-CR-ES-400|\n",
    "|...|"
   ]
  },
  {
   "cell_type": "markdown",
   "metadata": {},
   "source": [
    "<a id='MATERIAL_KEY'></a>\n",
    "## MATERIAL_KEY"
   ]
  },
  {
   "cell_type": "markdown",
   "metadata": {},
   "source": [
    "<font color=#0B8D7B>*full name*</font> **Material Key**"
   ]
  },
  {
   "cell_type": "markdown",
   "metadata": {},
   "source": [
    "#### <font color=#0B8D7B> <font type='Calibri'> Definition</font>"
   ]
  },
  {
   "cell_type": "markdown",
   "metadata": {},
   "source": [
    "* <font type='Calibri'> A *Material Key* is a alphanumeric key uniquely identifies each record in MDM. </font>"
   ]
  },
  {
   "cell_type": "markdown",
   "metadata": {},
   "source": [
    "#### <font color=#0B8D7B> Related Term(s) </font>"
   ]
  },
  {
   "cell_type": "markdown",
   "metadata": {},
   "source": [
    "* <font type='Calibri'><font color='gray'>**Material Number**</font>\n",
    "    - <font type='Calibri'>See [Material Number](#MATERIAL_NUM). </font>"
   ]
  },
  {
   "cell_type": "markdown",
   "metadata": {},
   "source": [
    "#### <font color=#0B8D7B> In MDM </font>"
   ]
  },
  {
   "cell_type": "markdown",
   "metadata": {},
   "source": [
    "|Sample Value Code|\n",
    "|-------------------|\n",
    "|10000009|      \n",
    "|1000001|       \n",
    "|10000011|      \n",
    "|10000012|      \n",
    "|1000002|       \n",
    "|10000023|      \n",
    "|1000003|       \n",
    "|10000032|      \n",
    "|10000034|     \n",
    "|10000036|  \n",
    "|...|"
   ]
  },
  {
   "cell_type": "markdown",
   "metadata": {},
   "source": [
    "<a id='CREATE_DATE'></a>\n",
    "## CREATE_DATE"
   ]
  },
  {
   "cell_type": "markdown",
   "metadata": {},
   "source": [
    "<font color=#0B8D7B>*full name*</font> **Creation Date**"
   ]
  },
  {
   "cell_type": "markdown",
   "metadata": {},
   "source": [
    "#### <font color=#0B8D7B> <font type='Calibri'> Definition</font>"
   ]
  },
  {
   "cell_type": "markdown",
   "metadata": {},
   "source": [
    "* <font type='Calibri'> A *Creation Date* records the date when a material was created in MDM, and not necessarily the creation date in the legacy source for a material. </font>"
   ]
  },
  {
   "cell_type": "markdown",
   "metadata": {},
   "source": [
    "#### <font color=#0B8D7B> Related Term(s) </font>"
   ]
  },
  {
   "cell_type": "markdown",
   "metadata": {},
   "source": [
    "* <font type='Calibri'><font color='gray'>**Last Updated Date**</font>\n",
    "    - <font type='Calibri'>See [Last Updated Date](#LAST_UPDATE_DATE) </font>"
   ]
  },
  {
   "cell_type": "markdown",
   "metadata": {},
   "source": [
    "#### <font color=#0B8D7B> In MDM </font>"
   ]
  },
  {
   "cell_type": "markdown",
   "metadata": {},
   "source": [
    "|Sample Values|\n",
    "|-------------------|\n",
    "|29-AUG-19 06.19.30.366000000 AM|\n",
    "|25-MAR-20 05.57.46.765000000 PM|\n",
    "|29-AUG-19 06.19.30.691000000 AM|\n",
    "|29-AUG-19 06.19.31.870000000 AM|\n",
    "|29-AUG-19 06.19.31.877000000 AM|\n",
    "|...|"
   ]
  },
  {
   "cell_type": "markdown",
   "metadata": {},
   "source": [
    "<a id='LAST_UPDATE_DATE'></a>\n",
    "## LAST_UPDATE_DATE"
   ]
  },
  {
   "cell_type": "markdown",
   "metadata": {},
   "source": [
    "<font color=#0B8D7B>*full name*</font> **Last Updated Date**"
   ]
  },
  {
   "cell_type": "markdown",
   "metadata": {},
   "source": [
    "#### <font color=#0B8D7B> <font type='Calibri'> Definition</font>"
   ]
  },
  {
   "cell_type": "markdown",
   "metadata": {},
   "source": [
    "* <font type='Calibri'> A *Last Updated Date* records the date when a material was last updated in MDM. </font>"
   ]
  },
  {
   "cell_type": "markdown",
   "metadata": {},
   "source": [
    "#### <font color=#0B8D7B> Related Term(s) </font>"
   ]
  },
  {
   "cell_type": "markdown",
   "metadata": {},
   "source": [
    "* <font type='Calibri'><font color='gray'>**Creation Date**</font>\n",
    "    - <font type='Calibri'>See [Creation Date](#CREATE_DATE) </font>"
   ]
  },
  {
   "cell_type": "markdown",
   "metadata": {},
   "source": [
    "#### <font color=#0B8D7B> In MDM </font>"
   ]
  },
  {
   "cell_type": "markdown",
   "metadata": {},
   "source": [
    "|Sample Values|\n",
    "|-------------------|\n",
    "|14-FEB-20 04.33.42.000000000 PM|\n",
    "|14-FEB-20 05.09.29.000000000 PM|\n",
    "|14-FEB-20 04.50.35.000000000 PM|\n",
    "|14-FEB-20 04.33.33.000000000 PM|\n",
    "|10-FEB-20 05.27.29.000000000 PM|\n",
    "|...|"
   ]
  },
  {
   "cell_type": "markdown",
   "metadata": {},
   "source": [
    "<a id='SHORT_DESC'></a>\n",
    "## SHORT_DESC"
   ]
  },
  {
   "cell_type": "markdown",
   "metadata": {},
   "source": [
    "<font color=#0B8D7B>*full name*</font> **Short Description**"
   ]
  },
  {
   "cell_type": "markdown",
   "metadata": {},
   "source": [
    "#### <font color=#0B8D7B> <font type='Calibri'> Definition</font>"
   ]
  },
  {
   "cell_type": "markdown",
   "metadata": {},
   "source": [
    "* <font type='Calibri'> A *Short Description* is the description for a material with a limit of 255 characters. </font>"
   ]
  },
  {
   "cell_type": "markdown",
   "metadata": {},
   "source": [
    "#### <font color=#0B8D7B> Related Term(s) </font>"
   ]
  },
  {
   "cell_type": "markdown",
   "metadata": {},
   "source": [
    "* <font type='Calibri'><font color='gray'>**Long Description**</font>\n",
    "    - <font type='Calibri'>See [Long Description](#LONG_DESC) </font>"
   ]
  },
  {
   "cell_type": "markdown",
   "metadata": {},
   "source": [
    "#### <font color=#0B8D7B> In MDM </font>"
   ]
  },
  {
   "cell_type": "markdown",
   "metadata": {},
   "source": [
    "|Sample Values|\n",
    "|-------------------|\n",
    "|NIPPLE,KING STL 1IN NPT GALV|\n",
    "|TEE,FEM STL 2IN 3000|\n",
    "|RES 2.49OHM 1% 0.25W CHIP 1206 THICK_F ROHS|\n",
    "|COLLAR, X-O, TUBING, 2 3/8 EUE BOX X 2 7/8 NU BOX|\n",
    "|DIFF FLOAT COLLAR WFT MODEL 443 WITH 7.000 35.0PPF|\n",
    "|...|"
   ]
  },
  {
   "cell_type": "markdown",
   "metadata": {},
   "source": [
    "<a id='LONG_DESC'></a>\n",
    "## LONG_DESC"
   ]
  },
  {
   "cell_type": "markdown",
   "metadata": {},
   "source": [
    "<font color=#0B8D7B>*full name*</font> **Long Description**"
   ]
  },
  {
   "cell_type": "markdown",
   "metadata": {},
   "source": [
    "#### <font color=#0B8D7B> <font type='Calibri'> Definition</font>"
   ]
  },
  {
   "cell_type": "markdown",
   "metadata": {},
   "source": [
    "* <font type='Calibri'> A *Long Description* is the complete description for a material from its legacy source. </font>"
   ]
  },
  {
   "cell_type": "markdown",
   "metadata": {},
   "source": [
    "#### <font color=#0B8D7B> Related Term(s) </font>"
   ]
  },
  {
   "cell_type": "markdown",
   "metadata": {},
   "source": [
    "* <font type='Calibri'><font color='gray'>**Short Description**</font>\n",
    "    - <font type='Calibri'>See [Short Description](#SHORT_DESC) </font>"
   ]
  },
  {
   "cell_type": "markdown",
   "metadata": {},
   "source": [
    "#### <font color=#0B8D7B> In MDM </font>"
   ]
  },
  {
   "cell_type": "markdown",
   "metadata": {},
   "source": [
    "|Sample Values|\n",
    "|-------------------|\n",
    "|TIRE,TUBELESS 385/65R225 V-STEEL WIDE BODY STEEL RADIAL M747|\n",
    "|7.000 PHTS PACKER, 26.00-29.00, 3.500 CONNECTIONS, NO TOP OR BOTTOM SUBS, INC925(110) FLOW WETTED MATERIAL, 90-80-90 HNBR ELEMENTS, VITON O-RINGS, 68,000 SHEAR SCREWS RELEASE SYSTEM|\n",
    "|PACKER,JS-3,11 3/4IN 60-83PPF,4 1/2IF,P110,STORM PACKER, WITH CARBIDE SLIP|\n",
    "|TIW DRILLABLE PACKOFF BUSHING SUB, 5 21.4  140KSI TSH-513 BOX X PIN|\n",
    "|OBSOLETE, USE KBG MANDREL DESIGN, NO DIRECT REPLACEMENT, REF PN 05515-000-00001 - 3-1/2 KBG MANDREL, 4130[80], (0) RECUTS, 10.20 PPF, VAM, BOX X PIN, STD SLB|\n",
    "|9-5/8 X 2-7/8 X 2-7/8 HYDRO-12 (40-43.5), 4140 (110), HNBR (90-70-90), 2-7/8 (6.4) VAM ACE|\n",
    "|...|"
   ]
  },
  {
   "cell_type": "code",
   "execution_count": null,
   "metadata": {},
   "outputs": [],
   "source": []
  }
 ],
 "metadata": {
  "kernelspec": {
   "display_name": "Python 3",
   "language": "python",
   "name": "python3"
  },
  "language_info": {
   "codemirror_mode": {
    "name": "ipython",
    "version": 3
   },
   "file_extension": ".py",
   "mimetype": "text/x-python",
   "name": "python",
   "nbconvert_exporter": "python",
   "pygments_lexer": "ipython3",
   "version": "3.7.4"
  }
 },
 "nbformat": 4,
 "nbformat_minor": 4
}
